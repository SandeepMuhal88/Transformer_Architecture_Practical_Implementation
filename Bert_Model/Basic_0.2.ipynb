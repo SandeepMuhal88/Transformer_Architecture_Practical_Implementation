{
 "cells": [
  {
   "cell_type": "code",
   "execution_count": null,
   "id": "27f97413",
   "metadata": {},
   "outputs": [],
   "source": [
    "import torch\n",
    "from torch import nn\n",
    "from torch.nn import functional as F\n",
    "# from transformers import BertModel, BertConfig, BertTokenizer, PreTrainedModel"
   ]
  },
  {
   "cell_type": "code",
   "execution_count": 4,
   "id": "f6da773f",
   "metadata": {},
   "outputs": [
    {
     "name": "stderr",
     "output_type": "stream",
     "text": [
      "Some weights of the model checkpoint at bert-base-uncased were not used when initializing BertForMaskedLM: ['bert.pooler.dense.bias', 'bert.pooler.dense.weight', 'cls.seq_relationship.bias', 'cls.seq_relationship.weight']\n",
      "- This IS expected if you are initializing BertForMaskedLM from the checkpoint of a model trained on another task or with another architecture (e.g. initializing a BertForSequenceClassification model from a BertForPreTraining model).\n",
      "- This IS NOT expected if you are initializing BertForMaskedLM from the checkpoint of a model that you expect to be exactly identical (initializing a BertForSequenceClassification model from a BertForSequenceClassification model).\n",
      "Device set to use cpu\n"
     ]
    },
    {
     "data": {
      "text/plain": [
       "[{'score': 0.20096808671951294,\n",
       "  'token': 3154,\n",
       "  'token_str': 'clear',\n",
       "  'sequence': 'the sky is clear.'},\n",
       " {'score': 0.18991036713123322,\n",
       "  'token': 2630,\n",
       "  'token_str': 'blue',\n",
       "  'sequence': 'the sky is blue.'},\n",
       " {'score': 0.13261409103870392,\n",
       "  'token': 2601,\n",
       "  'token_str': 'dark',\n",
       "  'sequence': 'the sky is dark.'},\n",
       " {'score': 0.06251438707113266,\n",
       "  'token': 3897,\n",
       "  'token_str': 'gray',\n",
       "  'sequence': 'the sky is gray.'},\n",
       " {'score': 0.0546007938683033,\n",
       "  'token': 2304,\n",
       "  'token_str': 'black',\n",
       "  'sequence': 'the sky is black.'}]"
      ]
     },
     "execution_count": 4,
     "metadata": {},
     "output_type": "execute_result"
    }
   ],
   "source": [
    "from transformers import BertTokenizer, BertForMaskedLM, pipeline\n",
    "\n",
    "tokenizer = BertTokenizer.from_pretrained('bert-base-uncased')\n",
    "model = BertForMaskedLM.from_pretrained('bert-base-uncased')\n",
    "\n",
    "fill_mask = pipeline('fill-mask', model=model, tokenizer=tokenizer)\n",
    "fill_mask(\"The sky is [MASK].\")\n"
   ]
  },
  {
   "cell_type": "code",
   "execution_count": 9,
   "id": "124ba347",
   "metadata": {},
   "outputs": [],
   "source": [
    "# from huggingface_hub import notebook_login\n",
    "\n",
    "# notebook_login()"
   ]
  }
 ],
 "metadata": {
  "kernelspec": {
   "display_name": ".machine (3.10.11)",
   "language": "python",
   "name": "python3"
  },
  "language_info": {
   "codemirror_mode": {
    "name": "ipython",
    "version": 3
   },
   "file_extension": ".py",
   "mimetype": "text/x-python",
   "name": "python",
   "nbconvert_exporter": "python",
   "pygments_lexer": "ipython3",
   "version": "3.10.11"
  }
 },
 "nbformat": 4,
 "nbformat_minor": 5
}
