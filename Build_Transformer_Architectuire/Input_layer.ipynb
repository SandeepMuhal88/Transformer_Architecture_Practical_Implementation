{
 "cells": [
  {
   "cell_type": "code",
   "execution_count": 1,
   "id": "3c3b134a",
   "metadata": {},
   "outputs": [],
   "source": [
    "# import numpy as np\n",
    "# import matplotlib.pyplot as plt\n",
    "# import seaborn as sns\n",
    "# import pandas as pd"
   ]
  },
  {
   "cell_type": "code",
   "execution_count": 2,
   "id": "e2adabf4",
   "metadata": {},
   "outputs": [],
   "source": [
    "# def input_layer():\n",
    "#     data = pd.read_csv('data.csv')\n",
    "#     return data"
   ]
  },
  {
   "cell_type": "markdown",
   "id": "306141dd",
   "metadata": {},
   "source": [
    "Step 1️⃣ — Imports"
   ]
  },
  {
   "cell_type": "code",
   "execution_count": 3,
   "id": "ab8a3efd",
   "metadata": {},
   "outputs": [],
   "source": [
    "import torch\n",
    "import torch.nn as nn\n",
    "import math"
   ]
  },
  {
   "cell_type": "markdown",
   "id": "5ead028e",
   "metadata": {},
   "source": [
    "Step 2️⃣ — Positional Encoding\n",
    "\n",
    "Transformers don’t have recurrence or convolution, so we need position info."
   ]
  },
  {
   "cell_type": "code",
   "execution_count": 4,
   "id": "168a6886",
   "metadata": {},
   "outputs": [],
   "source": [
    "class PositionalEncoding(nn.Module):\n",
    "    def __init__(self, d_model, max_len=5000):\n",
    "        super().__init__()\n",
    "        pe = torch.zeros(max_len, d_model)\n",
    "        position = torch.arange(0, max_len, dtype=torch.float).unsqueeze(1)\n",
    "        div_term = torch.exp(torch.arange(0, d_model, 2).float() * (-math.log(10000.0) / d_model))\n",
    "        pe[:, 0::2] = torch.sin(position * div_term)\n",
    "        pe[:, 1::2] = torch.cos(position * div_term)\n",
    "        pe = pe.unsqueeze(0)\n",
    "        self.register_buffer('pe', pe)\n",
    "\n",
    "    def forward(self, x):\n",
    "        x = x + self.pe[:, :x.size(1)]\n",
    "        return x\n"
   ]
  },
  {
   "cell_type": "markdown",
   "id": "f04e167e",
   "metadata": {},
   "source": [
    "Step 3️⃣ — Transformer Encoder Block\n",
    "\n",
    "This block includes Multi-Head Attention, Feed Forward, LayerNorm, and Residuals."
   ]
  },
  {
   "cell_type": "code",
   "execution_count": 5,
   "id": "bc1c15e1",
   "metadata": {},
   "outputs": [],
   "source": [
    "class TransformerEncoderBlock(nn.Module):\n",
    "    def __init__(self, d_model, n_heads, dim_ff, dropout=0.1):\n",
    "        super().__init__()\n",
    "        self.self_attn = nn.MultiheadAttention(d_model, n_heads, dropout=dropout)\n",
    "        self.linear1 = nn.Linear(d_model, dim_ff)\n",
    "        self.dropout = nn.Dropout(dropout)\n",
    "        self.linear2 = nn.Linear(dim_ff, d_model)\n",
    "        self.norm1 = nn.LayerNorm(d_model)\n",
    "        self.norm2 = nn.LayerNorm(d_model)\n",
    "        self.dropout1 = nn.Dropout(dropout)\n",
    "        self.dropout2 = nn.Dropout(dropout)\n",
    "\n",
    "    def forward(self, src):\n",
    "        # Self-attention\n",
    "        attn_output, _ = self.self_attn(src, src, src)\n",
    "        src = src + self.dropout1(attn_output)\n",
    "        src = self.norm1(src)\n",
    "\n",
    "        # Feed Forward\n",
    "        ff_output = self.linear2(self.dropout(torch.relu(self.linear1(src))))\n",
    "        src = src + self.dropout2(ff_output)\n",
    "        src = self.norm2(src)\n",
    "        return src\n"
   ]
  },
  {
   "cell_type": "markdown",
   "id": "bed85c3d",
   "metadata": {},
   "source": [
    "Step 4️⃣ — Full Transformer Encoder\n",
    "\n",
    "Now stack multiple encoder blocks + positional encoding."
   ]
  },
  {
   "cell_type": "code",
   "execution_count": 6,
   "id": "a8143ca1",
   "metadata": {},
   "outputs": [],
   "source": [
    "class TransformerEncoder(nn.Module):\n",
    "    def __init__(self, vocab_size, d_model=512, n_heads=8, num_layers=6, dim_ff=2048, dropout=0.1, max_len=5000):\n",
    "        super().__init__()\n",
    "        self.embedding = nn.Embedding(vocab_size, d_model)\n",
    "        self.pos_encoder = PositionalEncoding(d_model, max_len)\n",
    "        self.layers = nn.ModuleList([\n",
    "            TransformerEncoderBlock(d_model, n_heads, dim_ff, dropout) for _ in range(num_layers)\n",
    "        ])\n",
    "        self.dropout = nn.Dropout(dropout)\n",
    "        self.d_model = d_model\n",
    "\n",
    "    def forward(self, src):\n",
    "        src = self.embedding(src) * math.sqrt(self.d_model)\n",
    "        src = self.pos_encoder(src)\n",
    "        src = src.transpose(0, 1)  # (seq_len, batch, d_model)\n",
    "        for layer in self.layers:\n",
    "            src = layer(src)\n",
    "        return src\n"
   ]
  },
  {
   "cell_type": "markdown",
   "id": "4304885a",
   "metadata": {},
   "source": [
    "Step 5️⃣ — Example Usage"
   ]
  },
  {
   "cell_type": "code",
   "execution_count": 7,
   "id": "51f457b7",
   "metadata": {},
   "outputs": [
    {
     "name": "stdout",
     "output_type": "stream",
     "text": [
      "torch.Size([20, 4, 512])\n"
     ]
    }
   ],
   "source": [
    "# Example setup\n",
    "vocab_size = 10000\n",
    "seq_len = 20\n",
    "batch_size = 4\n",
    "\n",
    "model = TransformerEncoder(vocab_size)\n",
    "sample_input = torch.randint(0, vocab_size, (batch_size, seq_len))  # (batch, seq_len)\n",
    "\n",
    "output = model(sample_input)\n",
    "print(output.shape)  # (seq_len, batch, d_model)\n"
   ]
  }
 ],
 "metadata": {
  "kernelspec": {
   "display_name": ".machine (3.10.11)",
   "language": "python",
   "name": "python3"
  },
  "language_info": {
   "codemirror_mode": {
    "name": "ipython",
    "version": 3
   },
   "file_extension": ".py",
   "mimetype": "text/x-python",
   "name": "python",
   "nbconvert_exporter": "python",
   "pygments_lexer": "ipython3",
   "version": "3.10.11"
  }
 },
 "nbformat": 4,
 "nbformat_minor": 5
}
