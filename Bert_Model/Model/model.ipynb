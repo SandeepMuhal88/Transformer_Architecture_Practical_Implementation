{
 "cells": [
  {
   "cell_type": "markdown",
   "id": "dcaced05",
   "metadata": {},
   "source": [
    "Step 1️⃣ — Transformer Encoder (BERT-like)"
   ]
  },
  {
   "cell_type": "code",
   "execution_count": 2,
   "id": "5070cb77",
   "metadata": {},
   "outputs": [],
   "source": [
    "import torch\n",
    "import torch.nn as nn\n",
    "import math\n",
    "\n",
    "# Positional Encoding\n",
    "class PositionalEncoding(nn.Module):\n",
    "    def __init__(self, d_model, max_len=512):\n",
    "        super().__init__()\n",
    "        pe = torch.zeros(max_len, d_model)\n",
    "        position = torch.arange(0, max_len, dtype=torch.float).unsqueeze(1)\n",
    "        div_term = torch.exp(torch.arange(0, d_model, 2).float() * (-math.log(10000.0) / d_model))\n",
    "        pe[:, 0::2] = torch.sin(position * div_term)\n",
    "        pe[:, 1::2] = torch.cos(position * div_term)\n",
    "        self.register_buffer('pe', pe.unsqueeze(0))  # [1, max_len, d_model]\n",
    "\n",
    "    def forward(self, x):\n",
    "        x = x + self.pe[:, :x.size(1)]\n",
    "        return x\n"
   ]
  },
  {
   "cell_type": "markdown",
   "id": "255380a8",
   "metadata": {},
   "source": [
    "Step 2️⃣ — Encoder Layer (Self-Attention + FFN)"
   ]
  },
  {
   "cell_type": "code",
   "execution_count": 3,
   "id": "e648eeaa",
   "metadata": {},
   "outputs": [],
   "source": [
    "class TransformerEncoderLayer(nn.Module):\n",
    "    def __init__(self, d_model, n_heads, dim_ff, dropout=0.1):\n",
    "        super().__init__()\n",
    "        self.self_attn = nn.MultiheadAttention(d_model, n_heads, dropout=dropout)\n",
    "        self.linear1 = nn.Linear(d_model, dim_ff)\n",
    "        self.linear2 = nn.Linear(dim_ff, d_model)\n",
    "        self.norm1 = nn.LayerNorm(d_model)\n",
    "        self.norm2 = nn.LayerNorm(d_model)\n",
    "        self.dropout = nn.Dropout(dropout)\n",
    "\n",
    "    def forward(self, x, src_mask=None):\n",
    "        # Self-Attention\n",
    "        attn_output, _ = self.self_attn(x, x, x, attn_mask=src_mask)\n",
    "        x = self.norm1(x + self.dropout(attn_output))\n",
    "\n",
    "        # Feed Forward\n",
    "        ff_output = self.linear2(torch.relu(self.linear1(x)))\n",
    "        x = self.norm2(x + self.dropout(ff_output))\n",
    "        return x\n"
   ]
  },
  {
   "cell_type": "markdown",
   "id": "933419a9",
   "metadata": {},
   "source": [
    "Step 3️⃣ — Transformer Encoder (Stack Layers)"
   ]
  },
  {
   "cell_type": "code",
   "execution_count": 4,
   "id": "ec96394b",
   "metadata": {},
   "outputs": [],
   "source": [
    "class TransformerEncoder(nn.Module):\n",
    "    def __init__(self, vocab_size, d_model=512, n_heads=8, num_layers=6, dim_ff=2048, dropout=0.1, max_len=512):\n",
    "        super().__init__()\n",
    "        self.token_emb = nn.Embedding(vocab_size, d_model)\n",
    "        self.pos_enc = PositionalEncoding(d_model, max_len)\n",
    "        self.layers = nn.ModuleList([\n",
    "            TransformerEncoderLayer(d_model, n_heads, dim_ff, dropout) for _ in range(num_layers)\n",
    "        ])\n",
    "        self.dropout = nn.Dropout(dropout)\n",
    "        self.d_model = d_model\n",
    "\n",
    "    def forward(self, input_ids, src_mask=None):\n",
    "        x = self.token_emb(input_ids) * math.sqrt(self.d_model)\n",
    "        x = self.pos_enc(x)\n",
    "        x = x.transpose(0, 1)  # [seq_len, batch, d_model]\n",
    "        for layer in self.layers:\n",
    "            x = layer(x, src_mask)\n",
    "        return x.transpose(0, 1)  # [batch, seq_len, d_model]\n"
   ]
  },
  {
   "cell_type": "markdown",
   "id": "1292d1a9",
   "metadata": {},
   "source": [
    "Step 4️⃣ — Add MLM Head (optional)"
   ]
  },
  {
   "cell_type": "code",
   "execution_count": 5,
   "id": "4171c088",
   "metadata": {},
   "outputs": [],
   "source": [
    "class BertLikeModel(nn.Module):\n",
    "    def __init__(self, vocab_size, d_model=512, n_heads=8, num_layers=6, dim_ff=2048, dropout=0.1, max_len=512):\n",
    "        super().__init__()\n",
    "        self.encoder = TransformerEncoder(vocab_size, d_model, n_heads, num_layers, dim_ff, dropout, max_len)\n",
    "        self.mlm_head = nn.Linear(d_model, vocab_size)\n",
    "\n",
    "    def forward(self, input_ids, src_mask=None):\n",
    "        encoder_output = self.encoder(input_ids, src_mask)\n",
    "        mlm_logits = self.mlm_head(encoder_output)\n",
    "        return mlm_logits\n"
   ]
  },
  {
   "cell_type": "markdown",
   "id": "825768c5",
   "metadata": {},
   "source": [
    "Step 5️⃣ — Test the Model"
   ]
  },
  {
   "cell_type": "code",
   "execution_count": 6,
   "id": "31529a28",
   "metadata": {},
   "outputs": [
    {
     "name": "stdout",
     "output_type": "stream",
     "text": [
      "torch.Size([2, 16, 10000])\n"
     ]
    }
   ],
   "source": [
    "vocab_size = 10000\n",
    "seq_len = 16\n",
    "batch_size = 2\n",
    "\n",
    "model = BertLikeModel(vocab_size)\n",
    "input_ids = torch.randint(0, vocab_size, (batch_size, seq_len))\n",
    "\n",
    "out = model(input_ids)\n",
    "print(out.shape)  # [batch_size, seq_len, vocab_size]\n"
   ]
  }
 ],
 "metadata": {
  "kernelspec": {
   "display_name": ".machine (3.10.11)",
   "language": "python",
   "name": "python3"
  },
  "language_info": {
   "codemirror_mode": {
    "name": "ipython",
    "version": 3
   },
   "file_extension": ".py",
   "mimetype": "text/x-python",
   "name": "python",
   "nbconvert_exporter": "python",
   "pygments_lexer": "ipython3",
   "version": "3.10.11"
  }
 },
 "nbformat": 4,
 "nbformat_minor": 5
}
