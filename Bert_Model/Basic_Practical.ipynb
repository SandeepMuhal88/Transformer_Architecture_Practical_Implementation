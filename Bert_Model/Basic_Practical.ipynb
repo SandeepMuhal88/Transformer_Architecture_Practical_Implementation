{
 "cells": [
  {
   "cell_type": "markdown",
   "id": "f0c5659a",
   "metadata": {},
   "source": [
    "1️⃣ Basic: Use Pretrained BERT for MLM Prediction"
   ]
  },
  {
   "cell_type": "code",
   "execution_count": 1,
   "id": "ac2999de",
   "metadata": {},
   "outputs": [],
   "source": [
    "# Import necessary libraries\n",
    "import torch\n",
    "from transformers import BertTokenizer, BertModel, BertForMaskedLM"
   ]
  },
  {
   "cell_type": "code",
   "execution_count": 2,
   "id": "b8490e71",
   "metadata": {},
   "outputs": [
    {
     "name": "stderr",
     "output_type": "stream",
     "text": [
      "Some weights of the model checkpoint at bert-base-uncased were not used when initializing BertForMaskedLM: ['bert.pooler.dense.bias', 'bert.pooler.dense.weight', 'cls.seq_relationship.bias', 'cls.seq_relationship.weight']\n",
      "- This IS expected if you are initializing BertForMaskedLM from the checkpoint of a model trained on another task or with another architecture (e.g. initializing a BertForSequenceClassification model from a BertForPreTraining model).\n",
      "- This IS NOT expected if you are initializing BertForMaskedLM from the checkpoint of a model that you expect to be exactly identical (initializing a BertForSequenceClassification model from a BertForSequenceClassification model).\n"
     ]
    }
   ],
   "source": [
    "#Load pre-trained BERT tokenizer+ Model\n",
    "tokenizer = BertTokenizer.from_pretrained('bert-base-uncased')\n",
    "model= BertForMaskedLM.from_pretrained('bert-base-uncased') \n"
   ]
  },
  {
   "cell_type": "code",
   "execution_count": 3,
   "id": "2b626e1d",
   "metadata": {},
   "outputs": [
    {
     "name": "stderr",
     "output_type": "stream",
     "text": [
      "d:\\Project-to-learn\\.machine\\lib\\site-packages\\torch\\nn\\modules\\module.py:1784: FutureWarning: `encoder_attention_mask` is deprecated and will be removed in version 4.55.0 for `BertSdpaSelfAttention.forward`.\n",
      "  return forward_call(*args, **kwargs)\n"
     ]
    },
    {
     "name": "stdout",
     "output_type": "stream",
     "text": [
      "Predicted word: indeed\n"
     ]
    }
   ],
   "source": [
    "# Input sentence with a mask\n",
    "sentence = \"A Good man is very humable [MASK].\"\n",
    "\n",
    "# Tokenize\n",
    "inputs = tokenizer(sentence, return_tensors='pt')\n",
    "\n",
    "# Predict\n",
    "with torch.no_grad():\n",
    "    outputs = model(**inputs)\n",
    "    predictions = outputs.logits\n",
    "\n",
    "# Get predicted word for the [MASK]\n",
    "mask_token_index = torch.where(inputs[\"input_ids\"] == tokenizer.mask_token_id)[1]\n",
    "predicted_token_id = predictions[0, mask_token_index].argmax(axis=-1)\n",
    "predicted_word = tokenizer.decode(predicted_token_id)\n",
    "\n",
    "print(\"Predicted word:\", predicted_word)"
   ]
  },
  {
   "cell_type": "code",
   "execution_count": 4,
   "id": "c430a821",
   "metadata": {},
   "outputs": [
    {
     "data": {
      "text/plain": [
       "{'input_ids': tensor([[  101,  1037,  2204,  2158,  2003,  2200, 14910,  3085,   103,  1012,\n",
       "           102]]), 'token_type_ids': tensor([[0, 0, 0, 0, 0, 0, 0, 0, 0, 0, 0]]), 'attention_mask': tensor([[1, 1, 1, 1, 1, 1, 1, 1, 1, 1, 1]])}"
      ]
     },
     "execution_count": 4,
     "metadata": {},
     "output_type": "execute_result"
    }
   ],
   "source": [
    "inputs"
   ]
  },
  {
   "cell_type": "code",
   "execution_count": 5,
   "id": "c4a003e4",
   "metadata": {},
   "outputs": [
    {
     "data": {
      "text/plain": [
       "{'input_ids': tensor([[ 101, 1996, 3007, 1997, 2605, 2003,  103, 1012,  102]]), 'token_type_ids': tensor([[0, 0, 0, 0, 0, 0, 0, 0, 0]]), 'attention_mask': tensor([[1, 1, 1, 1, 1, 1, 1, 1, 1]])}"
      ]
     },
     "execution_count": 5,
     "metadata": {},
     "output_type": "execute_result"
    }
   ],
   "source": [
    "#input Sentence\n",
    "text = \"The capital of France is [MASK].\"\n",
    "# Tokenize input\n",
    "# input = tokenizer.encode(text, return_tensors='pt')\n",
    "input=tokenizer(text, return_tensors='pt')\n",
    "input"
   ]
  },
  {
   "cell_type": "code",
   "execution_count": 6,
   "id": "aa9405a7",
   "metadata": {},
   "outputs": [],
   "source": [
    "#Predict all tokens\n",
    "with torch.no_grad():\n",
    "    outputs = model(**input)\n",
    "    predictions = outputs.logits\n"
   ]
  },
  {
   "cell_type": "code",
   "execution_count": 7,
   "id": "36b59b8e",
   "metadata": {},
   "outputs": [],
   "source": [
    "# Get predicted word for the [MASK]\n",
    "mask_token_index = torch.where(input[\"input_ids\"] == tokenizer.mask_token_id)[1]\n",
    "predicted_token_id = predictions[0, mask_token_index].argmax(axis=-1)\n",
    "predicted_word = tokenizer.decode(predicted_token_id)\n"
   ]
  },
  {
   "cell_type": "code",
   "execution_count": 8,
   "id": "67371dee",
   "metadata": {},
   "outputs": [
    {
     "name": "stdout",
     "output_type": "stream",
     "text": [
      "Predicted word: paris\n"
     ]
    }
   ],
   "source": [
    "print(\"Predicted word:\", predicted_word)"
   ]
  },
  {
   "cell_type": "code",
   "execution_count": 9,
   "id": "60884dc0",
   "metadata": {},
   "outputs": [
    {
     "name": "stdout",
     "output_type": "stream",
     "text": [
      "Input: A Good man is very humable [MASK].\n",
      "Top 5 Predictions:\n",
      "- paris\n",
      "- lille\n",
      "- lyon\n",
      "- marseille\n",
      "- tours\n"
     ]
    }
   ],
   "source": [
    "# Puraani line:\n",
    "# predicted_token_id = predictions[0, mask_token_index].argmax(axis=-1)\n",
    "\n",
    "# Nayi lines:\n",
    "mask_scores = predictions[0, mask_token_index]\n",
    "top_5_tokens = torch.topk(mask_scores, 5, dim=-1).indices[0]\n",
    "\n",
    "print(f\"Input: {sentence}\")\n",
    "print(\"Top 5 Predictions:\")\n",
    "\n",
    "for token_id in top_5_tokens:\n",
    "    word = tokenizer.decode(token_id)\n",
    "    print(f\"- {word}\")"
   ]
  }
 ],
 "metadata": {
  "kernelspec": {
   "display_name": ".machine (3.10.11)",
   "language": "python",
   "name": "python3"
  },
  "language_info": {
   "codemirror_mode": {
    "name": "ipython",
    "version": 3
   },
   "file_extension": ".py",
   "mimetype": "text/x-python",
   "name": "python",
   "nbconvert_exporter": "python",
   "pygments_lexer": "ipython3",
   "version": "3.10.11"
  }
 },
 "nbformat": 4,
 "nbformat_minor": 5
}
